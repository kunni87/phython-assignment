{
  "cells": [
    {
      "cell_type": "markdown",
      "metadata": {
        "id": "view-in-github",
        "colab_type": "text"
      },
      "source": [
        "<a href=\"https://colab.research.google.com/github/kunni87/phython-assignment/blob/main/Practice%20Note.ipynb\" target=\"_parent\"><img src=\"https://colab.research.google.com/assets/colab-badge.svg\" alt=\"Open In Colab\"/></a>"
      ]
    },
    {
      "cell_type": "markdown",
      "source": [
        "Dictionary\n",
        "They are mutable, {}"
      ],
      "metadata": {
        "id": "c4qmx7N6PRRU"
      }
    },
    {
      "cell_type": "code",
      "source": [
        "info= {'name':'Kunal',\n",
        "       'age':32,\n",
        "       'marks':[5,14,12,34,]}\n",
        "print(type(info))\n",
        "print(info)"
      ],
      "metadata": {
        "colab": {
          "base_uri": "https://localhost:8080/"
        },
        "id": "klQWzcvZRqC0",
        "outputId": "d97e25c8-d102-486d-dcef-2b6b883ee29d"
      },
      "execution_count": null,
      "outputs": [
        {
          "output_type": "stream",
          "name": "stdout",
          "text": [
            "<class 'dict'>\n",
            "{'name': 'Kunal', 'age': 32, 'marks': [5, 14, 12, 34]}\n"
          ]
        }
      ]
    },
    {
      "cell_type": "code",
      "source": [
        "info['name']"
      ],
      "metadata": {
        "colab": {
          "base_uri": "https://localhost:8080/",
          "height": 36
        },
        "id": "WdI59PBHSjlP",
        "outputId": "18f24736-47b9-4365-835c-612f1b4c98f7"
      },
      "execution_count": null,
      "outputs": [
        {
          "output_type": "execute_result",
          "data": {
            "text/plain": [
              "'Kunal'"
            ],
            "application/vnd.google.colaboratory.intrinsic+json": {
              "type": "string"
            }
          },
          "metadata": {},
          "execution_count": 5
        }
      ]
    },
    {
      "cell_type": "markdown",
      "source": [
        "Duplicate Key is not allowed in dictionary. Dictionary take the second value if the key is same/Duplicate"
      ],
      "metadata": {
        "id": "Ycb23Y-aTFDA"
      }
    },
    {
      "cell_type": "code",
      "source": [
        "info2={'name':'Kunal',\n",
        "       'name':'Kapadia'}\n",
        "print(info2)"
      ],
      "metadata": {
        "colab": {
          "base_uri": "https://localhost:8080/"
        },
        "id": "3dH2wUHKS3qQ",
        "outputId": "3a76710d-d322-4229-c846-c45db1272b57"
      },
      "execution_count": null,
      "outputs": [
        {
          "output_type": "stream",
          "name": "stdout",
          "text": [
            "{'name': 'Kapadia'}\n"
          ]
        }
      ]
    },
    {
      "cell_type": "markdown",
      "source": [
        "Duplicate Value are excepted in Dictionary"
      ],
      "metadata": {
        "id": "7c37SajKTlI_"
      }
    },
    {
      "cell_type": "code",
      "source": [
        "info3={'name':'Kunal',\n",
        "       'surname':'Kunal'}\n",
        "print(info3)"
      ],
      "metadata": {
        "colab": {
          "base_uri": "https://localhost:8080/"
        },
        "id": "UJFG3RC3Td4L",
        "outputId": "93f3f8f5-2e98-4fa4-bfcf-de8bc5a590fd"
      },
      "execution_count": null,
      "outputs": [
        {
          "output_type": "stream",
          "name": "stdout",
          "text": [
            "{'name': 'Kunal', 'surname': 'Kunal'}\n"
          ]
        }
      ]
    },
    {
      "cell_type": "code",
      "source": [
        "info4= {'name':'Kunal',\n",
        "       'age':32,\n",
        "       'marks':{'English':5,'Hindi':14,'Maths':12,'Science':34,}}\n",
        "print(info4)"
      ],
      "metadata": {
        "colab": {
          "base_uri": "https://localhost:8080/"
        },
        "id": "oHXraMjjUB6N",
        "outputId": "df605225-db1e-4fcd-f70e-083fa80d9cb8"
      },
      "execution_count": null,
      "outputs": [
        {
          "output_type": "stream",
          "name": "stdout",
          "text": [
            "{'name': 'Kunal', 'age': 32, 'marks': {'English': 5, 'Hindi': 14, 'Maths': 12, 'Science': 34}}\n"
          ]
        }
      ]
    },
    {
      "cell_type": "markdown",
      "source": [
        "Access nested dictionary value"
      ],
      "metadata": {
        "id": "cyhNP4R3UwVc"
      }
    },
    {
      "cell_type": "code",
      "source": [
        "info4['marks']['English']\n"
      ],
      "metadata": {
        "colab": {
          "base_uri": "https://localhost:8080/"
        },
        "id": "M9rWJQVJUbpV",
        "outputId": "8add5797-e703-4a3b-a060-887177b3e53d"
      },
      "execution_count": null,
      "outputs": [
        {
          "output_type": "execute_result",
          "data": {
            "text/plain": [
              "5"
            ]
          },
          "metadata": {},
          "execution_count": 13
        }
      ]
    },
    {
      "cell_type": "markdown",
      "source": [
        "Dictionary method\n",
        "dict.keys()--> returns key\n",
        "dict.value()--> returns Value\n",
        "dict.items()\n",
        "dict.get('key')\n",
        "dict.update(newdict)\n"
      ],
      "metadata": {
        "id": "_GrUKZhsWwXP"
      }
    },
    {
      "cell_type": "code",
      "source": [
        "info7= {'name':'Kunal',\n",
        "       'age':32,\n",
        "       'marks':[5,14,12,34,]}"
      ],
      "metadata": {
        "id": "edn82r92XCXu"
      },
      "execution_count": null,
      "outputs": []
    },
    {
      "cell_type": "markdown",
      "source": [
        "dict.keys()"
      ],
      "metadata": {
        "id": "HzOFY8kUX8Bc"
      }
    },
    {
      "cell_type": "code",
      "source": [
        "key=list(info7.keys())\n",
        "print(key)"
      ],
      "metadata": {
        "colab": {
          "base_uri": "https://localhost:8080/"
        },
        "id": "o5t0E3eKXZWb",
        "outputId": "b51b4357-39de-4faf-df4e-fcd80617aad4"
      },
      "execution_count": null,
      "outputs": [
        {
          "output_type": "stream",
          "name": "stdout",
          "text": [
            "['name', 'age', 'marks']\n"
          ]
        }
      ]
    },
    {
      "cell_type": "markdown",
      "source": [
        "dict.values()"
      ],
      "metadata": {
        "id": "t3IxtglhX_yw"
      }
    },
    {
      "cell_type": "code",
      "source": [
        "values=list(info7.values())\n",
        "print(values)"
      ],
      "metadata": {
        "colab": {
          "base_uri": "https://localhost:8080/"
        },
        "id": "yZSanYOdX2iI",
        "outputId": "4a98f1ef-3a08-403b-97c2-03a39d1384a0"
      },
      "execution_count": null,
      "outputs": [
        {
          "output_type": "stream",
          "name": "stdout",
          "text": [
            "['Kunal', 32, [5, 14, 12, 34]]\n"
          ]
        }
      ]
    },
    {
      "cell_type": "markdown",
      "source": [
        "dict.item()"
      ],
      "metadata": {
        "id": "rqcHb6o2YRiJ"
      }
    },
    {
      "cell_type": "code",
      "source": [
        "item=list(info7.items())\n",
        "print(item)"
      ],
      "metadata": {
        "colab": {
          "base_uri": "https://localhost:8080/"
        },
        "id": "AbC7hkyuYHVF",
        "outputId": "4cb1429b-7b03-4d1f-a0a0-92a72259e675"
      },
      "execution_count": null,
      "outputs": [
        {
          "output_type": "stream",
          "name": "stdout",
          "text": [
            "[('name', 'Kunal'), ('age', 32), ('marks', [5, 14, 12, 34])]\n"
          ]
        }
      ]
    },
    {
      "cell_type": "markdown",
      "source": [
        "dict.get()"
      ],
      "metadata": {
        "id": "xTrE0NeTYgV_"
      }
    },
    {
      "cell_type": "code",
      "source": [
        "info7.get('name2')"
      ],
      "metadata": {
        "id": "eBQ4FrH2YlYf"
      },
      "execution_count": null,
      "outputs": []
    },
    {
      "cell_type": "code",
      "source": [
        "info7['name2']"
      ],
      "metadata": {
        "colab": {
          "base_uri": "https://localhost:8080/",
          "height": 146
        },
        "id": "oAs_Sb-BYrIj",
        "outputId": "34aac691-8fb8-42c2-e866-fbff5f0ebad9"
      },
      "execution_count": null,
      "outputs": [
        {
          "output_type": "error",
          "ename": "KeyError",
          "evalue": "'name2'",
          "traceback": [
            "\u001b[0;31m---------------------------------------------------------------------------\u001b[0m",
            "\u001b[0;31mKeyError\u001b[0m                                  Traceback (most recent call last)",
            "\u001b[0;32m<ipython-input-29-aa9b6023d586>\u001b[0m in \u001b[0;36m<cell line: 0>\u001b[0;34m()\u001b[0m\n\u001b[0;32m----> 1\u001b[0;31m \u001b[0minfo7\u001b[0m\u001b[0;34m[\u001b[0m\u001b[0;34m'name2'\u001b[0m\u001b[0;34m]\u001b[0m\u001b[0;34m\u001b[0m\u001b[0;34m\u001b[0m\u001b[0m\n\u001b[0m",
            "\u001b[0;31mKeyError\u001b[0m: 'name2'"
          ]
        }
      ]
    },
    {
      "cell_type": "code",
      "source": [
        "info7.update({'Address':'Bengaluru'})\n",
        "print(info7)"
      ],
      "metadata": {
        "colab": {
          "base_uri": "https://localhost:8080/"
        },
        "id": "JKPTWtr9ZeNW",
        "outputId": "a79ddce3-b9eb-416a-cd82-015b4529e3c9"
      },
      "execution_count": null,
      "outputs": [
        {
          "output_type": "stream",
          "name": "stdout",
          "text": [
            "{'name': 'Kunal', 'age': 32, 'marks': [5, 14, 12, 34], 'Address': 'Bengaluru'}\n"
          ]
        }
      ]
    },
    {
      "cell_type": "markdown",
      "source": [
        "pop('Aadress)- remove the item mentioned"
      ],
      "metadata": {
        "id": "zcqpenjLeabJ"
      }
    },
    {
      "cell_type": "code",
      "source": [
        "info7.pop('Address')\n",
        "print(info7)"
      ],
      "metadata": {
        "colab": {
          "base_uri": "https://localhost:8080/"
        },
        "id": "pRp8ub_aeDzw",
        "outputId": "3f10c15f-a790-4f3d-e7e4-579860ae5c71"
      },
      "execution_count": null,
      "outputs": [
        {
          "output_type": "stream",
          "name": "stdout",
          "text": [
            "{'name': 'Kunal', 'age': 32, 'marks': [5, 14, 12, 34]}\n"
          ]
        }
      ]
    },
    {
      "cell_type": "markdown",
      "source": [
        "popitem()-- remove the last item"
      ],
      "metadata": {
        "id": "NWjiplUceYe8"
      }
    },
    {
      "cell_type": "code",
      "source": [
        "info7.popitem()\n",
        "print(info7)"
      ],
      "metadata": {
        "colab": {
          "base_uri": "https://localhost:8080/"
        },
        "id": "vMtDanZPeJQe",
        "outputId": "aa8b3422-b770-49ef-87a9-7e8a4170ccd6"
      },
      "execution_count": null,
      "outputs": [
        {
          "output_type": "stream",
          "name": "stdout",
          "text": [
            "{'name': 'Kunal', 'age': 32}\n"
          ]
        }
      ]
    },
    {
      "cell_type": "code",
      "source": [
        "info7.setdefault('name')\n",
        "print(info7)"
      ],
      "metadata": {
        "colab": {
          "base_uri": "https://localhost:8080/"
        },
        "id": "OEdoIHD1eu7C",
        "outputId": "60775f6e-c3c9-4f86-cf6a-263b3cb72d31"
      },
      "execution_count": null,
      "outputs": [
        {
          "output_type": "stream",
          "name": "stdout",
          "text": [
            "{'name': 'Kunal', 'age': 32}\n"
          ]
        }
      ]
    },
    {
      "cell_type": "code",
      "source": [
        "info7.clear()\n",
        "print(info7)"
      ],
      "metadata": {
        "colab": {
          "base_uri": "https://localhost:8080/"
        },
        "id": "oFLj1aQRe3YN",
        "outputId": "6bfdf82c-f891-4d05-924e-1189c56e4e66"
      },
      "execution_count": null,
      "outputs": [
        {
          "output_type": "stream",
          "name": "stdout",
          "text": [
            "{}\n"
          ]
        }
      ]
    },
    {
      "cell_type": "markdown",
      "source": [
        "**SET**"
      ],
      "metadata": {
        "id": "mdmynaBDjCKj"
      }
    },
    {
      "cell_type": "code",
      "source": [
        "num={1,2,3,4}\n",
        "print(num)\n",
        "print(type(num))"
      ],
      "metadata": {
        "colab": {
          "base_uri": "https://localhost:8080/"
        },
        "id": "CjOEnbeJjFe0",
        "outputId": "8c83e592-53c9-4877-abb2-18b4774dbee2"
      },
      "execution_count": null,
      "outputs": [
        {
          "output_type": "stream",
          "name": "stdout",
          "text": [
            "{1, 2, 3, 4}\n",
            "<class 'set'>\n"
          ]
        }
      ]
    },
    {
      "cell_type": "code",
      "source": [
        "num1={1,2,2,2,3,3,4,4}\n",
        "print(num1)"
      ],
      "metadata": {
        "colab": {
          "base_uri": "https://localhost:8080/"
        },
        "id": "v5clPe9wjMAZ",
        "outputId": "74e1e66e-49da-4849-b114-986ffcdb0477"
      },
      "execution_count": null,
      "outputs": [
        {
          "output_type": "stream",
          "name": "stdout",
          "text": [
            "{1, 2, 3, 4}\n"
          ]
        }
      ]
    },
    {
      "cell_type": "code",
      "source": [
        "num3=set()\n",
        "print(num3)"
      ],
      "metadata": {
        "colab": {
          "base_uri": "https://localhost:8080/"
        },
        "id": "p3VQj4VgjbnK",
        "outputId": "97028e5e-496e-4cb3-d63d-eaf7cb3da56f"
      },
      "execution_count": null,
      "outputs": [
        {
          "output_type": "stream",
          "name": "stdout",
          "text": [
            "set()\n"
          ]
        }
      ]
    },
    {
      "cell_type": "markdown",
      "source": [
        "Set is unordered, in the below example enter and output is different"
      ],
      "metadata": {
        "id": "D1HFku_qkmEv"
      }
    },
    {
      "cell_type": "code",
      "source": [
        "num4={1,'apple',(1,2,3)}\n",
        "print(num4)"
      ],
      "metadata": {
        "colab": {
          "base_uri": "https://localhost:8080/"
        },
        "id": "TVBFlqthkblR",
        "outputId": "ccec0685-8327-426a-f009-f6dc0f394620"
      },
      "execution_count": null,
      "outputs": [
        {
          "output_type": "stream",
          "name": "stdout",
          "text": [
            "{1, (1, 2, 3), 'apple'}\n"
          ]
        }
      ]
    },
    {
      "cell_type": "markdown",
      "source": [
        "Set doesn't allow list and dictionary"
      ],
      "metadata": {
        "id": "BUwNrAFDmOPh"
      }
    },
    {
      "cell_type": "code",
      "source": [
        "num5={1,'kunal', [1,2,3]}\n",
        "print(num5)"
      ],
      "metadata": {
        "colab": {
          "base_uri": "https://localhost:8080/",
          "height": 165
        },
        "id": "HsbHUxcbkuAc",
        "outputId": "bc4dc07e-ab60-454e-b674-de5665644a98"
      },
      "execution_count": null,
      "outputs": [
        {
          "output_type": "error",
          "ename": "TypeError",
          "evalue": "unhashable type: 'list'",
          "traceback": [
            "\u001b[0;31m---------------------------------------------------------------------------\u001b[0m",
            "\u001b[0;31mTypeError\u001b[0m                                 Traceback (most recent call last)",
            "\u001b[0;32m<ipython-input-46-22e5c2085fef>\u001b[0m in \u001b[0;36m<cell line: 0>\u001b[0;34m()\u001b[0m\n\u001b[0;32m----> 1\u001b[0;31m \u001b[0mnum5\u001b[0m\u001b[0;34m=\u001b[0m\u001b[0;34m{\u001b[0m\u001b[0;36m1\u001b[0m\u001b[0;34m,\u001b[0m\u001b[0;34m'kunal'\u001b[0m\u001b[0;34m,\u001b[0m \u001b[0;34m[\u001b[0m\u001b[0;36m1\u001b[0m\u001b[0;34m,\u001b[0m\u001b[0;36m2\u001b[0m\u001b[0;34m,\u001b[0m\u001b[0;36m3\u001b[0m\u001b[0;34m]\u001b[0m\u001b[0;34m}\u001b[0m\u001b[0;34m\u001b[0m\u001b[0;34m\u001b[0m\u001b[0m\n\u001b[0m\u001b[1;32m      2\u001b[0m \u001b[0mprint\u001b[0m\u001b[0;34m(\u001b[0m\u001b[0mnum5\u001b[0m\u001b[0;34m)\u001b[0m\u001b[0;34m\u001b[0m\u001b[0;34m\u001b[0m\u001b[0m\n",
            "\u001b[0;31mTypeError\u001b[0m: unhashable type: 'list'"
          ]
        }
      ]
    },
    {
      "cell_type": "markdown",
      "source": [
        "Add a element in set"
      ],
      "metadata": {
        "id": "gOb4LGasm2Jr"
      }
    },
    {
      "cell_type": "code",
      "source": [
        "num.add(5)\n",
        "print(num)"
      ],
      "metadata": {
        "colab": {
          "base_uri": "https://localhost:8080/"
        },
        "id": "A98i-l_ZmSQ5",
        "outputId": "7610ae5c-3691-4930-dc15-12584c4f0bc4"
      },
      "execution_count": null,
      "outputs": [
        {
          "output_type": "stream",
          "name": "stdout",
          "text": [
            "{1, 2, 3, 4, 5}\n"
          ]
        }
      ]
    },
    {
      "cell_type": "markdown",
      "source": [
        "Remove a element in set"
      ],
      "metadata": {
        "id": "aWzfvEVUm3aC"
      }
    },
    {
      "cell_type": "code",
      "source": [
        "num.remove(4)\n",
        "print(num)"
      ],
      "metadata": {
        "colab": {
          "base_uri": "https://localhost:8080/"
        },
        "id": "8Z5vhW-3mduf",
        "outputId": "ef53be75-778e-47fd-b2aa-bd033b028a33"
      },
      "execution_count": null,
      "outputs": [
        {
          "output_type": "stream",
          "name": "stdout",
          "text": [
            "{1, 2, 3, 5}\n"
          ]
        }
      ]
    },
    {
      "cell_type": "markdown",
      "source": [
        "Remove a randome element in set"
      ],
      "metadata": {
        "id": "lLOka2WMm6yM"
      }
    },
    {
      "cell_type": "code",
      "source": [
        "num.pop()\n",
        "print(num)\n"
      ],
      "metadata": {
        "colab": {
          "base_uri": "https://localhost:8080/"
        },
        "id": "7E__rg-0migT",
        "outputId": "ed7471e4-df0c-4253-ea33-b472e293960d"
      },
      "execution_count": null,
      "outputs": [
        {
          "output_type": "stream",
          "name": "stdout",
          "text": [
            "{3, 4}\n"
          ]
        }
      ]
    },
    {
      "cell_type": "markdown",
      "source": [
        "Clear all element in set"
      ],
      "metadata": {
        "id": "YMfYbEdrm-m7"
      }
    },
    {
      "cell_type": "code",
      "source": [
        "num.clear()\n",
        "print(num)"
      ],
      "metadata": {
        "colab": {
          "base_uri": "https://localhost:8080/"
        },
        "id": "tnLP1Ghjmoqh",
        "outputId": "6046e16f-e485-47b0-a636-d86720e19a58"
      },
      "execution_count": null,
      "outputs": [
        {
          "output_type": "stream",
          "name": "stdout",
          "text": [
            "set()\n"
          ]
        }
      ]
    },
    {
      "cell_type": "code",
      "source": [
        "nums={1,2,3,7}\n",
        "nums1={2,3,5}\n",
        "nums.intersection(nums1)"
      ],
      "metadata": {
        "colab": {
          "base_uri": "https://localhost:8080/"
        },
        "id": "0_Ole8BonM16",
        "outputId": "95b15bbe-8170-43f2-d039-5976650a3268"
      },
      "execution_count": null,
      "outputs": [
        {
          "output_type": "execute_result",
          "data": {
            "text/plain": [
              "{2, 3}"
            ]
          },
          "metadata": {},
          "execution_count": 81
        }
      ]
    },
    {
      "cell_type": "code",
      "source": [
        "nums.union(nums1)"
      ],
      "metadata": {
        "colab": {
          "base_uri": "https://localhost:8080/"
        },
        "id": "DLVhohiqoDtV",
        "outputId": "b5aa854b-ad8a-49f5-e345-dd13315a0a13"
      },
      "execution_count": null,
      "outputs": [
        {
          "output_type": "execute_result",
          "data": {
            "text/plain": [
              "{1, 2, 3, 5, 7}"
            ]
          },
          "metadata": {},
          "execution_count": 82
        }
      ]
    },
    {
      "cell_type": "code",
      "source": [
        "import os"
      ],
      "metadata": {
        "id": "76qawbewqhnb"
      },
      "execution_count": null,
      "outputs": []
    },
    {
      "cell_type": "code",
      "source": [
        "os.getcwd()"
      ],
      "metadata": {
        "id": "3kRGLUe_qmFX",
        "outputId": "7eda40c6-294f-4b35-9747-ac8deacf8f5f",
        "colab": {
          "base_uri": "https://localhost:8080/",
          "height": 36
        }
      },
      "execution_count": null,
      "outputs": [
        {
          "output_type": "execute_result",
          "data": {
            "text/plain": [
              "'/content'"
            ],
            "application/vnd.google.colaboratory.intrinsic+json": {
              "type": "string"
            }
          },
          "metadata": {},
          "execution_count": 98
        }
      ]
    },
    {
      "cell_type": "markdown",
      "source": [
        "**Change directory and list directory**"
      ],
      "metadata": {
        "id": "kTpvc0TovMvJ"
      }
    },
    {
      "cell_type": "code",
      "source": [
        "import os\n",
        "os.chdir('/kaggle')\n",
        "os.listdir('/kaggle')"
      ],
      "metadata": {
        "id": "7gJqZ16YueGZ",
        "outputId": "df9dc418-b549-407a-cde3-3dcab96f6f09",
        "colab": {
          "base_uri": "https://localhost:8080/"
        }
      },
      "execution_count": null,
      "outputs": [
        {
          "output_type": "execute_result",
          "data": {
            "text/plain": [
              "['input']"
            ]
          },
          "metadata": {},
          "execution_count": 1
        }
      ]
    },
    {
      "cell_type": "markdown",
      "source": [
        "**Creating a** **Directory**\n",
        "os.mkdir()\n",
        "os.mkdirs()"
      ],
      "metadata": {
        "id": "ADgnyl2dva1i"
      }
    },
    {
      "cell_type": "code",
      "source": [
        "#directory\n",
        "Directory='demo1'\n",
        "\n",
        "parent_dir='/kaggle'\n",
        "\n",
        "path=os.path.join(parent_dir,Directory)\n",
        "\n",
        "os.mkdir(path)\n"
      ],
      "metadata": {
        "id": "xaSt6giSQmdm"
      },
      "execution_count": null,
      "outputs": []
    },
    {
      "cell_type": "code",
      "source": [
        "Directory='demo2'\n",
        "\n",
        "parent_dir='/kaggle'\n",
        "\n",
        "mode=0o666\n",
        "\n",
        "path=os.path.join(parent_dir,Directory)\n",
        "\n",
        "os.mkdir(path,mode)"
      ],
      "metadata": {
        "id": "UVpbIRMzRZo2"
      },
      "execution_count": null,
      "outputs": []
    },
    {
      "cell_type": "code",
      "source": [
        "Directory='demo5'\n",
        "\n",
        "parent_dir='/kaggle/demo3/demo4'\n",
        "\n",
        "path=os.path.join(parent_dir,Directory)\n",
        "\n",
        "os.makedirs(path)"
      ],
      "metadata": {
        "id": "nR6oSRKiTIfp"
      },
      "execution_count": null,
      "outputs": []
    },
    {
      "cell_type": "markdown",
      "source": [
        "Remove Empty Directory"
      ],
      "metadata": {
        "id": "nmZ_8NfCWz_k"
      }
    },
    {
      "cell_type": "code",
      "source": [
        "Directory='demo5'\n",
        "\n",
        "parent_dir='/kaggle'\n",
        "\n",
        "path=os.path.join(parent_dir,Directory)\n",
        "\n",
        "os.rmdir(path)"
      ],
      "metadata": {
        "id": "1Uro11M0T2V_"
      },
      "execution_count": null,
      "outputs": []
    },
    {
      "cell_type": "code",
      "source": [
        "pwd\n"
      ],
      "metadata": {
        "id": "E5iXypIB7oRV",
        "outputId": "c4626810-27c6-4e34-bd61-fad1d69446bb",
        "colab": {
          "base_uri": "https://localhost:8080/",
          "height": 36
        }
      },
      "execution_count": null,
      "outputs": [
        {
          "output_type": "execute_result",
          "data": {
            "text/plain": [
              "'/content'"
            ],
            "application/vnd.google.colaboratory.intrinsic+json": {
              "type": "string"
            }
          },
          "metadata": {},
          "execution_count": 3
        }
      ]
    },
    {
      "cell_type": "code",
      "source": [
        "import os\n",
        "os.chdir('/kaggle')"
      ],
      "metadata": {
        "id": "TjbAK4ZM71dx"
      },
      "execution_count": null,
      "outputs": []
    },
    {
      "cell_type": "code",
      "source": [
        "pwd"
      ],
      "metadata": {
        "id": "Xs-VCz2H7-mq",
        "outputId": "41399302-01d2-43fb-b9f2-b9fecc55590e",
        "colab": {
          "base_uri": "https://localhost:8080/",
          "height": 36
        }
      },
      "execution_count": null,
      "outputs": [
        {
          "output_type": "execute_result",
          "data": {
            "text/plain": [
              "'/kaggle'"
            ],
            "application/vnd.google.colaboratory.intrinsic+json": {
              "type": "string"
            }
          },
          "metadata": {},
          "execution_count": 6
        }
      ]
    },
    {
      "cell_type": "code",
      "source": [
        "%%writefile test.text\n",
        "This is my first line\n",
        "This is my second line\n",
        "This is my Third line"
      ],
      "metadata": {
        "id": "WAXmOlKc8AT3",
        "outputId": "a40c8d48-14f3-4d5d-ddfb-875de1ef553a",
        "colab": {
          "base_uri": "https://localhost:8080/"
        }
      },
      "execution_count": null,
      "outputs": [
        {
          "output_type": "stream",
          "name": "stdout",
          "text": [
            "Writing test.text\n"
          ]
        }
      ]
    },
    {
      "cell_type": "code",
      "source": [
        "myfile = open('/kaggle/test.text')"
      ],
      "metadata": {
        "id": "S7Rg54lN9JE6"
      },
      "execution_count": null,
      "outputs": []
    },
    {
      "cell_type": "code",
      "source": [
        "myfile.read()"
      ],
      "metadata": {
        "id": "GFRPd9hW9f5p",
        "outputId": "39c62f22-c867-47b3-b6da-e9954e4df03d",
        "colab": {
          "base_uri": "https://localhost:8080/",
          "height": 36
        }
      },
      "execution_count": null,
      "outputs": [
        {
          "output_type": "execute_result",
          "data": {
            "text/plain": [
              "'This is my first line\\nThis is my second line\\nThis is my Third line\\n'"
            ],
            "application/vnd.google.colaboratory.intrinsic+json": {
              "type": "string"
            }
          },
          "metadata": {},
          "execution_count": 12
        }
      ]
    },
    {
      "cell_type": "markdown",
      "source": [
        "Once you use read fucntion next time it won't allow you to read as it has reached to the end so will use seek function to move the cursor back to beginning"
      ],
      "metadata": {
        "id": "0eiQUFOQ9x7y"
      }
    },
    {
      "cell_type": "code",
      "source": [
        "myfile.read()"
      ],
      "metadata": {
        "id": "zgmcKza69vla",
        "outputId": "2b3546f4-f666-44ff-8e92-6516788b98d6",
        "colab": {
          "base_uri": "https://localhost:8080/",
          "height": 36
        }
      },
      "execution_count": null,
      "outputs": [
        {
          "output_type": "execute_result",
          "data": {
            "text/plain": [
              "''"
            ],
            "application/vnd.google.colaboratory.intrinsic+json": {
              "type": "string"
            }
          },
          "metadata": {},
          "execution_count": 13
        }
      ]
    },
    {
      "cell_type": "code",
      "source": [
        "myfile.seek(0)"
      ],
      "metadata": {
        "id": "ebBkLf6F9wpG",
        "outputId": "7a6a6df6-310e-400d-81a2-79d6225c7ad4",
        "colab": {
          "base_uri": "https://localhost:8080/"
        }
      },
      "execution_count": null,
      "outputs": [
        {
          "output_type": "execute_result",
          "data": {
            "text/plain": [
              "0"
            ]
          },
          "metadata": {},
          "execution_count": 14
        }
      ]
    },
    {
      "cell_type": "code",
      "source": [
        "print(myfile.read())"
      ],
      "metadata": {
        "id": "MpvVNNyJ-Dv0",
        "outputId": "c1bc0a95-73fa-434b-8627-0d2f6dfe8a98",
        "colab": {
          "base_uri": "https://localhost:8080/"
        }
      },
      "execution_count": null,
      "outputs": [
        {
          "output_type": "stream",
          "name": "stdout",
          "text": [
            "This is my first line\n",
            "This is my second line\n",
            "This is my Third line\n",
            "\n"
          ]
        }
      ]
    },
    {
      "cell_type": "code",
      "source": [
        "myfile.seek(0)"
      ],
      "metadata": {
        "id": "UoipRzHH-Rtc",
        "outputId": "b69fb148-3608-459b-aa50-9e37ad08b3f4",
        "colab": {
          "base_uri": "https://localhost:8080/"
        }
      },
      "execution_count": null,
      "outputs": [
        {
          "output_type": "execute_result",
          "data": {
            "text/plain": [
              "0"
            ]
          },
          "metadata": {},
          "execution_count": 17
        }
      ]
    },
    {
      "cell_type": "markdown",
      "source": [
        "Read file line by line"
      ],
      "metadata": {
        "id": "ePrGl9Gm-kJj"
      }
    },
    {
      "cell_type": "code",
      "source": [
        "myfile.readlines()"
      ],
      "metadata": {
        "id": "ix4iPHWK-X9C",
        "outputId": "d5df4d25-2185-4240-e5ae-6fd722450c10",
        "colab": {
          "base_uri": "https://localhost:8080/"
        }
      },
      "execution_count": null,
      "outputs": [
        {
          "output_type": "execute_result",
          "data": {
            "text/plain": [
              "['This is my first line\\n',\n",
              " 'This is my second line\\n',\n",
              " 'This is my Third line\\n']"
            ]
          },
          "metadata": {},
          "execution_count": 18
        }
      ]
    },
    {
      "cell_type": "code",
      "source": [
        "myfile.close()"
      ],
      "metadata": {
        "id": "zeuq7p5Q-u2s"
      },
      "execution_count": null,
      "outputs": []
    },
    {
      "cell_type": "code",
      "source": [
        "myfile.seek(0)\n",
        "myfile.readlines()"
      ],
      "metadata": {
        "id": "7B9JB_Ta-xqj",
        "outputId": "dd0327b0-4462-4aec-8b51-c8ae41f420e9",
        "colab": {
          "base_uri": "https://localhost:8080/",
          "height": 165
        }
      },
      "execution_count": null,
      "outputs": [
        {
          "output_type": "error",
          "ename": "ValueError",
          "evalue": "I/O operation on closed file.",
          "traceback": [
            "\u001b[0;31m---------------------------------------------------------------------------\u001b[0m",
            "\u001b[0;31mValueError\u001b[0m                                Traceback (most recent call last)",
            "\u001b[0;32m<ipython-input-20-0812c89ee0cb>\u001b[0m in \u001b[0;36m<cell line: 0>\u001b[0;34m()\u001b[0m\n\u001b[0;32m----> 1\u001b[0;31m \u001b[0mmyfile\u001b[0m\u001b[0;34m.\u001b[0m\u001b[0mseek\u001b[0m\u001b[0;34m(\u001b[0m\u001b[0;36m0\u001b[0m\u001b[0;34m)\u001b[0m\u001b[0;34m\u001b[0m\u001b[0;34m\u001b[0m\u001b[0m\n\u001b[0m\u001b[1;32m      2\u001b[0m \u001b[0mmyfile\u001b[0m\u001b[0;34m.\u001b[0m\u001b[0mreadlines\u001b[0m\u001b[0;34m(\u001b[0m\u001b[0;34m)\u001b[0m\u001b[0;34m\u001b[0m\u001b[0;34m\u001b[0m\u001b[0m\n",
            "\u001b[0;31mValueError\u001b[0m: I/O operation on closed file."
          ]
        }
      ]
    },
    {
      "cell_type": "code",
      "source": [
        "myfile=open('/kaggle/test.text','w+')"
      ],
      "metadata": {
        "id": "4Y3Nrr3W_7tK"
      },
      "execution_count": null,
      "outputs": []
    },
    {
      "cell_type": "code",
      "source": [
        "myfile.write('This is awesome')"
      ],
      "metadata": {
        "id": "VRR1rlrAASVu",
        "outputId": "1892a931-9803-4f5c-d4cc-52c47aed422d",
        "colab": {
          "base_uri": "https://localhost:8080/"
        }
      },
      "execution_count": null,
      "outputs": [
        {
          "output_type": "execute_result",
          "data": {
            "text/plain": [
              "15"
            ]
          },
          "metadata": {},
          "execution_count": 23
        }
      ]
    },
    {
      "cell_type": "code",
      "source": [
        "myfile.seek(0)\n",
        "myfile.read()"
      ],
      "metadata": {
        "id": "NrtILZtqAdfq",
        "outputId": "4cb61539-35ab-4d69-8ed9-a4bfba638225",
        "colab": {
          "base_uri": "https://localhost:8080/",
          "height": 36
        }
      },
      "execution_count": null,
      "outputs": [
        {
          "output_type": "execute_result",
          "data": {
            "text/plain": [
              "'This is awesome'"
            ],
            "application/vnd.google.colaboratory.intrinsic+json": {
              "type": "string"
            }
          },
          "metadata": {},
          "execution_count": 25
        }
      ]
    },
    {
      "cell_type": "code",
      "source": [
        "with open('newtest.text','w') as f:\n",
        "    lines= ['JS this is awesome', '\\n', 'this is my programming course']\n",
        "    f.writelines(lines)"
      ],
      "metadata": {
        "id": "cN-Dni7bA9s_"
      },
      "execution_count": null,
      "outputs": []
    },
    {
      "cell_type": "code",
      "source": [
        "print(lines)"
      ],
      "metadata": {
        "id": "Pb7jZTQHBfrj",
        "outputId": "a1f82dfd-a897-4567-92ab-75d85477c100",
        "colab": {
          "base_uri": "https://localhost:8080/"
        }
      },
      "execution_count": null,
      "outputs": [
        {
          "output_type": "stream",
          "name": "stdout",
          "text": [
            "['JS this is awesome', '\\n', 'this is my programming course']\n"
          ]
        }
      ]
    },
    {
      "cell_type": "code",
      "source": [
        "myfile=open('newtest.text','a+')\n",
        "myfile.write('\\nThis is new line')\n",
        "myfile.write('\\nThis is new line2')"
      ],
      "metadata": {
        "id": "y0hHD5zACHBz",
        "outputId": "ed470099-53f8-43bb-8c4a-3895f4188381",
        "colab": {
          "base_uri": "https://localhost:8080/"
        }
      },
      "execution_count": null,
      "outputs": [
        {
          "output_type": "execute_result",
          "data": {
            "text/plain": [
              "18"
            ]
          },
          "metadata": {},
          "execution_count": 44
        }
      ]
    },
    {
      "cell_type": "code",
      "source": [
        "myfile.seek(0)\n",
        "myfile.read()"
      ],
      "metadata": {
        "id": "HhPVoWe-CpBA",
        "outputId": "1c687d55-36c1-4f9c-f0d8-8a92aa576d43",
        "colab": {
          "base_uri": "https://localhost:8080/",
          "height": 36
        }
      },
      "execution_count": null,
      "outputs": [
        {
          "output_type": "execute_result",
          "data": {
            "text/plain": [
              "'JS this is awesome\\nthis is my programming course\\nThis is new line\\nThis is new line2'"
            ],
            "application/vnd.google.colaboratory.intrinsic+json": {
              "type": "string"
            }
          },
          "metadata": {},
          "execution_count": 45
        }
      ]
    },
    {
      "cell_type": "code",
      "source": [
        "myfile.close()"
      ],
      "metadata": {
        "id": "_1YuoTgaEP9T"
      },
      "execution_count": null,
      "outputs": []
    },
    {
      "cell_type": "code",
      "source": [
        "with open('newtest.text','r+') as txt:\n",
        "    first_line=txt.readlines()[0:]\n",
        "print(first_line)"
      ],
      "metadata": {
        "id": "sgPKHVb9FBev",
        "outputId": "defabd1c-a58a-4816-af39-584b47df164e",
        "colab": {
          "base_uri": "https://localhost:8080/"
        }
      },
      "execution_count": null,
      "outputs": [
        {
          "output_type": "stream",
          "name": "stdout",
          "text": [
            "['JS this is awesome\\n', 'this is my programming course\\n', 'This is new line\\n', 'This is new line2']\n"
          ]
        }
      ]
    },
    {
      "cell_type": "code",
      "source": [
        "with open('newtest.text','r') as txt:\n",
        "    for line in txt:\n",
        "        print(line,end='')"
      ],
      "metadata": {
        "id": "nkisT3e8Hkd9",
        "outputId": "02f3be1c-e99d-47aa-9ec6-555c64d55772",
        "colab": {
          "base_uri": "https://localhost:8080/"
        }
      },
      "execution_count": null,
      "outputs": [
        {
          "output_type": "stream",
          "name": "stdout",
          "text": [
            "JS this is awesome\n",
            "this is my programming course\n",
            "This is new line\n",
            "This is new line2"
          ]
        }
      ]
    },
    {
      "cell_type": "code",
      "source": [
        "try:\n",
        "  myfile=open('ftest.text','r')\n",
        "  content=myfile.read()\n",
        "  print(content)\n",
        "finally:\n",
        "  myfile.close()"
      ],
      "metadata": {
        "id": "Lndj_OeAFWqw",
        "outputId": "02875c93-f59b-4ba6-9a49-9b942a645410",
        "colab": {
          "base_uri": "https://localhost:8080/",
          "height": 219
        }
      },
      "execution_count": null,
      "outputs": [
        {
          "output_type": "error",
          "ename": "FileNotFoundError",
          "evalue": "[Errno 2] No such file or directory: 'ftest.text'",
          "traceback": [
            "\u001b[0;31m---------------------------------------------------------------------------\u001b[0m",
            "\u001b[0;31mFileNotFoundError\u001b[0m                         Traceback (most recent call last)",
            "\u001b[0;32m<ipython-input-63-486dd575b4e3>\u001b[0m in \u001b[0;36m<cell line: 0>\u001b[0;34m()\u001b[0m\n\u001b[1;32m      1\u001b[0m \u001b[0;32mtry\u001b[0m\u001b[0;34m:\u001b[0m\u001b[0;34m\u001b[0m\u001b[0;34m\u001b[0m\u001b[0m\n\u001b[0;32m----> 2\u001b[0;31m   \u001b[0mmyfile\u001b[0m\u001b[0;34m=\u001b[0m\u001b[0mopen\u001b[0m\u001b[0;34m(\u001b[0m\u001b[0;34m'ftest.text'\u001b[0m\u001b[0;34m,\u001b[0m\u001b[0;34m'r'\u001b[0m\u001b[0;34m)\u001b[0m\u001b[0;34m\u001b[0m\u001b[0;34m\u001b[0m\u001b[0m\n\u001b[0m\u001b[1;32m      3\u001b[0m   \u001b[0mcontent\u001b[0m\u001b[0;34m=\u001b[0m\u001b[0mmyfile\u001b[0m\u001b[0;34m.\u001b[0m\u001b[0mread\u001b[0m\u001b[0;34m(\u001b[0m\u001b[0;34m)\u001b[0m\u001b[0;34m\u001b[0m\u001b[0;34m\u001b[0m\u001b[0m\n\u001b[1;32m      4\u001b[0m   \u001b[0mprint\u001b[0m\u001b[0;34m(\u001b[0m\u001b[0mcontent\u001b[0m\u001b[0;34m)\u001b[0m\u001b[0;34m\u001b[0m\u001b[0;34m\u001b[0m\u001b[0m\n\u001b[1;32m      5\u001b[0m \u001b[0;32mfinally\u001b[0m\u001b[0;34m:\u001b[0m\u001b[0;34m\u001b[0m\u001b[0;34m\u001b[0m\u001b[0m\n",
            "\u001b[0;31mFileNotFoundError\u001b[0m: [Errno 2] No such file or directory: 'ftest.text'"
          ]
        }
      ]
    },
    {
      "cell_type": "markdown",
      "source": [
        "The below file is used to pass the code if no file name exist"
      ],
      "metadata": {
        "id": "m5ZLb-TUL9Xg"
      }
    },
    {
      "cell_type": "code",
      "source": [
        "try:\n",
        "  myfile=open('ftest.text','r')\n",
        "  content=myfile.read()\n",
        "  print(content)\n",
        "except:\n",
        "  print('File not found')\n",
        "finally:\n",
        "  myfile.close()"
      ],
      "metadata": {
        "id": "Vah-fYKlLXvO",
        "outputId": "0fe5d4f5-915e-4542-95a2-3c356ca7608d",
        "colab": {
          "base_uri": "https://localhost:8080/"
        }
      },
      "execution_count": null,
      "outputs": [
        {
          "output_type": "stream",
          "name": "stdout",
          "text": [
            "File not found\n"
          ]
        }
      ]
    },
    {
      "cell_type": "code",
      "source": [
        "with open('ftest.text','w') as f:\n",
        "    lines= ['Phython this is awesome', '\\n', 'this is my programming course']\n",
        "    f.writelines(lines)\n"
      ],
      "metadata": {
        "id": "PZvnXRjDMS3I"
      },
      "execution_count": null,
      "outputs": []
    },
    {
      "cell_type": "code",
      "source": [
        "try:\n",
        "  myfile=open('ftest.text','r')\n",
        "  content=myfile.read()\n",
        "  print(content)\n",
        "except:\n",
        "  print('File not found')\n",
        "finally:\n",
        "  myfile.close()"
      ],
      "metadata": {
        "id": "MQSV5fi8MrHF",
        "outputId": "09592510-a0de-41ed-80d3-951ee5b98a45",
        "colab": {
          "base_uri": "https://localhost:8080/"
        }
      },
      "execution_count": null,
      "outputs": [
        {
          "output_type": "stream",
          "name": "stdout",
          "text": [
            "Phython this is awesome\n",
            "this is my programming course\n"
          ]
        }
      ]
    },
    {
      "cell_type": "markdown",
      "source": [
        "***While Loop***"
      ],
      "metadata": {
        "id": "-dE18DWq2EEP"
      }
    },
    {
      "cell_type": "code",
      "source": [
        "i=1\n",
        "while i<=5:\n",
        "  print('hello world')\n",
        "  i=i+1"
      ],
      "metadata": {
        "colab": {
          "base_uri": "https://localhost:8080/"
        },
        "id": "b9ycte_r2Ii9",
        "outputId": "edaf40ff-1fef-4a38-9eaf-2d280e8348b6"
      },
      "execution_count": null,
      "outputs": [
        {
          "output_type": "stream",
          "name": "stdout",
          "text": [
            "hello world\n",
            "hello world\n",
            "hello world\n",
            "hello world\n",
            "hello world\n"
          ]
        }
      ]
    },
    {
      "cell_type": "code",
      "source": [
        "list = [12,60,70,80,39,38]\n",
        "i=0\n",
        "while i<len(list):\n",
        "  print(list[i])\n",
        "  i=i+1"
      ],
      "metadata": {
        "colab": {
          "base_uri": "https://localhost:8080/"
        },
        "id": "TZva7g_H2j5i",
        "outputId": "7a57eb0e-daca-4c8b-beaa-0030eb7f0361"
      },
      "execution_count": null,
      "outputs": [
        {
          "output_type": "stream",
          "name": "stdout",
          "text": [
            "12\n",
            "60\n",
            "70\n",
            "80\n",
            "39\n",
            "38\n"
          ]
        }
      ]
    },
    {
      "cell_type": "code",
      "source": [
        "string='watermelon'\n",
        "i=0\n",
        "while i <len(string):\n",
        "  if string[i]=='m':\n",
        "    print(True)\n",
        "  else:\n",
        "    print(False)\n",
        "  i=i+1\n"
      ],
      "metadata": {
        "colab": {
          "base_uri": "https://localhost:8080/"
        },
        "id": "ip5iO3-X46x1",
        "outputId": "bffc446c-13ea-43dd-eb00-526280b93887"
      },
      "execution_count": null,
      "outputs": [
        {
          "output_type": "stream",
          "name": "stdout",
          "text": [
            "False\n",
            "False\n",
            "False\n",
            "False\n",
            "False\n",
            "True\n",
            "False\n",
            "False\n",
            "False\n",
            "False\n"
          ]
        }
      ]
    },
    {
      "cell_type": "code",
      "source": [
        "while False:\n",
        "  print('Hello World')"
      ],
      "metadata": {
        "id": "gLrNFQua7sLv"
      },
      "execution_count": null,
      "outputs": []
    },
    {
      "cell_type": "code",
      "source": [
        "fruits = ('apple', 'mango', 'banana', 'orange')\n",
        "while True:\n",
        "  fruit = input('Enter fruit name: ').lower()\n",
        "  if fruit not in fruits:\n",
        "        print('Invalid fruit. Please enter a fruit from the list:', ', '.join(fruits))\n",
        "  elif fruit == 'mango':\n",
        "        print('Mango is found')\n",
        "        break\n",
        "  else:\n",
        "        print('Wrong choice of fruit, enter fruit name again')"
      ],
      "metadata": {
        "id": "pT3XdU4P-uRy",
        "outputId": "9461926c-cda5-4d20-d321-17e4fd4c46bd",
        "colab": {
          "base_uri": "https://localhost:8080/"
        }
      },
      "execution_count": null,
      "outputs": [
        {
          "output_type": "stream",
          "name": "stdout",
          "text": [
            "Enter fruit name: apple\n",
            "Wrong choice of fruit, enter fruit name again\n",
            "Enter fruit name: chickoo\n",
            "Invalid fruit. Please enter a fruit from the list: apple, mango, banana, orange\n",
            "Enter fruit name: Mango\n",
            "Mango is found\n"
          ]
        }
      ]
    },
    {
      "cell_type": "code",
      "source": [
        "import os\n",
        "from IPython.display import clear_output\n",
        "\n",
        "def clear_console():\n",
        "    if os.name == 'nt':\n",
        "        os.system('cls')\n",
        "fruits = ('apple', 'mango', 'banana', 'orange')\n",
        "\n",
        "while True:\n",
        "    fruit = input('Enter fruit name: ').lower()\n",
        "    if fruit not in fruits:\n",
        "        print('Invalid fruit. Please enter a fruit from the list:', ', '.join(fruits))\n",
        "    elif fruit == 'mango':\n",
        "        print('Mango is found')\n",
        "        break\n",
        "    else:\n",
        "        print('Wrong choice of fruit, enter fruit name again')\n",
        "\n",
        "    time.sleep(5)\n",
        "    clear_console()\n"
      ],
      "metadata": {
        "id": "Poi1udBdHm_D",
        "outputId": "3e48a7b3-23a7-4245-d8ce-3208c43eb2ad",
        "colab": {
          "base_uri": "https://localhost:8080/"
        }
      },
      "execution_count": null,
      "outputs": [
        {
          "output_type": "stream",
          "name": "stdout",
          "text": [
            "Enter fruit name: apple\n",
            "Wrong choice of fruit, enter fruit name again\n"
          ]
        }
      ]
    },
    {
      "cell_type": "markdown",
      "source": [
        "***For Loop***\n",
        "Range(start, stop,[step])"
      ],
      "metadata": {
        "id": "n__xIozR-p7R"
      }
    },
    {
      "cell_type": "code",
      "source": [
        "for i in range(1,21):\n",
        "  print('4 x',i,'=',i*4)"
      ],
      "metadata": {
        "id": "oqVgH9j-Oesw",
        "outputId": "7c249f8f-6607-4c20-c28f-3a4e13203add",
        "colab": {
          "base_uri": "https://localhost:8080/"
        }
      },
      "execution_count": 93,
      "outputs": [
        {
          "output_type": "stream",
          "name": "stdout",
          "text": [
            "4 x 1 = 4\n",
            "4 x 2 = 8\n",
            "4 x 3 = 12\n",
            "4 x 4 = 16\n",
            "4 x 5 = 20\n",
            "4 x 6 = 24\n",
            "4 x 7 = 28\n",
            "4 x 8 = 32\n",
            "4 x 9 = 36\n",
            "4 x 10 = 40\n",
            "4 x 11 = 44\n",
            "4 x 12 = 48\n",
            "4 x 13 = 52\n",
            "4 x 14 = 56\n",
            "4 x 15 = 60\n",
            "4 x 16 = 64\n",
            "4 x 17 = 68\n",
            "4 x 18 = 72\n",
            "4 x 19 = 76\n",
            "4 x 20 = 80\n"
          ]
        }
      ]
    }
  ],
  "metadata": {
    "colab": {
      "name": "Welcome To Colab",
      "provenance": [],
      "toc_visible": true,
      "include_colab_link": true
    },
    "kernelspec": {
      "display_name": "Python 3",
      "name": "python3"
    }
  },
  "nbformat": 4,
  "nbformat_minor": 0
}