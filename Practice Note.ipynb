{
  "cells": [
    {
      "cell_type": "markdown",
      "metadata": {
        "id": "view-in-github",
        "colab_type": "text"
      },
      "source": [
        "<a href=\"https://colab.research.google.com/github/kunni87/phython-assignment/blob/main/Practice%20Note.ipynb\" target=\"_parent\"><img src=\"https://colab.research.google.com/assets/colab-badge.svg\" alt=\"Open In Colab\"/></a>"
      ]
    },
    {
      "cell_type": "markdown",
      "source": [
        "Dictionary\n",
        "They are mutable, {}"
      ],
      "metadata": {
        "id": "c4qmx7N6PRRU"
      }
    },
    {
      "cell_type": "code",
      "source": [
        "info= {'name':'Kunal',\n",
        "       'age':32,\n",
        "       'marks':[5,14,12,34,]}\n",
        "print(type(info))\n",
        "print(info)"
      ],
      "metadata": {
        "colab": {
          "base_uri": "https://localhost:8080/"
        },
        "id": "klQWzcvZRqC0",
        "outputId": "d97e25c8-d102-486d-dcef-2b6b883ee29d"
      },
      "execution_count": 1,
      "outputs": [
        {
          "output_type": "stream",
          "name": "stdout",
          "text": [
            "<class 'dict'>\n",
            "{'name': 'Kunal', 'age': 32, 'marks': [5, 14, 12, 34]}\n"
          ]
        }
      ]
    },
    {
      "cell_type": "code",
      "source": [
        "info['name']"
      ],
      "metadata": {
        "colab": {
          "base_uri": "https://localhost:8080/",
          "height": 36
        },
        "id": "WdI59PBHSjlP",
        "outputId": "18f24736-47b9-4365-835c-612f1b4c98f7"
      },
      "execution_count": 5,
      "outputs": [
        {
          "output_type": "execute_result",
          "data": {
            "text/plain": [
              "'Kunal'"
            ],
            "application/vnd.google.colaboratory.intrinsic+json": {
              "type": "string"
            }
          },
          "metadata": {},
          "execution_count": 5
        }
      ]
    },
    {
      "cell_type": "markdown",
      "source": [
        "Duplicate Key is not allowed in dictionary. Dictionary take the second value if the key is same/Duplicate"
      ],
      "metadata": {
        "id": "Ycb23Y-aTFDA"
      }
    },
    {
      "cell_type": "code",
      "source": [
        "info2={'name':'Kunal',\n",
        "       'name':'Kapadia'}\n",
        "print(info2)"
      ],
      "metadata": {
        "colab": {
          "base_uri": "https://localhost:8080/"
        },
        "id": "3dH2wUHKS3qQ",
        "outputId": "3a76710d-d322-4229-c846-c45db1272b57"
      },
      "execution_count": 6,
      "outputs": [
        {
          "output_type": "stream",
          "name": "stdout",
          "text": [
            "{'name': 'Kapadia'}\n"
          ]
        }
      ]
    },
    {
      "cell_type": "markdown",
      "source": [
        "Duplicate Value are excepted in Dictionary"
      ],
      "metadata": {
        "id": "7c37SajKTlI_"
      }
    },
    {
      "cell_type": "code",
      "source": [
        "info3={'name':'Kunal',\n",
        "       'surname':'Kunal'}\n",
        "print(info3)"
      ],
      "metadata": {
        "colab": {
          "base_uri": "https://localhost:8080/"
        },
        "id": "UJFG3RC3Td4L",
        "outputId": "93f3f8f5-2e98-4fa4-bfcf-de8bc5a590fd"
      },
      "execution_count": 7,
      "outputs": [
        {
          "output_type": "stream",
          "name": "stdout",
          "text": [
            "{'name': 'Kunal', 'surname': 'Kunal'}\n"
          ]
        }
      ]
    },
    {
      "cell_type": "code",
      "source": [
        "info4= {'name':'Kunal',\n",
        "       'age':32,\n",
        "       'marks':{'English':5,'Hindi':14,'Maths':12,'Science':34,}}\n",
        "print(info4)"
      ],
      "metadata": {
        "colab": {
          "base_uri": "https://localhost:8080/"
        },
        "id": "oHXraMjjUB6N",
        "outputId": "df605225-db1e-4fcd-f70e-083fa80d9cb8"
      },
      "execution_count": 8,
      "outputs": [
        {
          "output_type": "stream",
          "name": "stdout",
          "text": [
            "{'name': 'Kunal', 'age': 32, 'marks': {'English': 5, 'Hindi': 14, 'Maths': 12, 'Science': 34}}\n"
          ]
        }
      ]
    },
    {
      "cell_type": "markdown",
      "source": [
        "Access nested dictionary value"
      ],
      "metadata": {
        "id": "cyhNP4R3UwVc"
      }
    },
    {
      "cell_type": "code",
      "source": [
        "info4['marks']['English']\n"
      ],
      "metadata": {
        "colab": {
          "base_uri": "https://localhost:8080/"
        },
        "id": "M9rWJQVJUbpV",
        "outputId": "8add5797-e703-4a3b-a060-887177b3e53d"
      },
      "execution_count": 13,
      "outputs": [
        {
          "output_type": "execute_result",
          "data": {
            "text/plain": [
              "5"
            ]
          },
          "metadata": {},
          "execution_count": 13
        }
      ]
    },
    {
      "cell_type": "markdown",
      "source": [
        "Dictionary method\n",
        "dict.keys()--> returns key\n",
        "dict.value()--> returns Value\n",
        "dict.items()\n",
        "dict.get('key')\n",
        "dict.update(newdict)\n"
      ],
      "metadata": {
        "id": "_GrUKZhsWwXP"
      }
    },
    {
      "cell_type": "code",
      "source": [
        "info7= {'name':'Kunal',\n",
        "       'age':32,\n",
        "       'marks':[5,14,12,34,]}"
      ],
      "metadata": {
        "id": "edn82r92XCXu"
      },
      "execution_count": 16,
      "outputs": []
    },
    {
      "cell_type": "markdown",
      "source": [
        "dict.keys()"
      ],
      "metadata": {
        "id": "HzOFY8kUX8Bc"
      }
    },
    {
      "cell_type": "code",
      "source": [
        "key=list(info7.keys())\n",
        "print(key)"
      ],
      "metadata": {
        "colab": {
          "base_uri": "https://localhost:8080/"
        },
        "id": "o5t0E3eKXZWb",
        "outputId": "b51b4357-39de-4faf-df4e-fcd80617aad4"
      },
      "execution_count": 17,
      "outputs": [
        {
          "output_type": "stream",
          "name": "stdout",
          "text": [
            "['name', 'age', 'marks']\n"
          ]
        }
      ]
    },
    {
      "cell_type": "markdown",
      "source": [
        "dict.values()"
      ],
      "metadata": {
        "id": "t3IxtglhX_yw"
      }
    },
    {
      "cell_type": "code",
      "source": [
        "values=list(info7.values())\n",
        "print(values)"
      ],
      "metadata": {
        "colab": {
          "base_uri": "https://localhost:8080/"
        },
        "id": "yZSanYOdX2iI",
        "outputId": "4a98f1ef-3a08-403b-97c2-03a39d1384a0"
      },
      "execution_count": 18,
      "outputs": [
        {
          "output_type": "stream",
          "name": "stdout",
          "text": [
            "['Kunal', 32, [5, 14, 12, 34]]\n"
          ]
        }
      ]
    },
    {
      "cell_type": "markdown",
      "source": [
        "dict.item()"
      ],
      "metadata": {
        "id": "rqcHb6o2YRiJ"
      }
    },
    {
      "cell_type": "code",
      "source": [
        "item=list(info7.items())\n",
        "print(item)"
      ],
      "metadata": {
        "colab": {
          "base_uri": "https://localhost:8080/"
        },
        "id": "AbC7hkyuYHVF",
        "outputId": "4cb1429b-7b03-4d1f-a0a0-92a72259e675"
      },
      "execution_count": 19,
      "outputs": [
        {
          "output_type": "stream",
          "name": "stdout",
          "text": [
            "[('name', 'Kunal'), ('age', 32), ('marks', [5, 14, 12, 34])]\n"
          ]
        }
      ]
    },
    {
      "cell_type": "markdown",
      "source": [
        "dict.get()"
      ],
      "metadata": {
        "id": "xTrE0NeTYgV_"
      }
    },
    {
      "cell_type": "code",
      "source": [
        "info7.get('name2')"
      ],
      "metadata": {
        "id": "eBQ4FrH2YlYf"
      },
      "execution_count": 30,
      "outputs": []
    },
    {
      "cell_type": "code",
      "source": [
        "info7['name2']"
      ],
      "metadata": {
        "colab": {
          "base_uri": "https://localhost:8080/",
          "height": 146
        },
        "id": "oAs_Sb-BYrIj",
        "outputId": "34aac691-8fb8-42c2-e866-fbff5f0ebad9"
      },
      "execution_count": 29,
      "outputs": [
        {
          "output_type": "error",
          "ename": "KeyError",
          "evalue": "'name2'",
          "traceback": [
            "\u001b[0;31m---------------------------------------------------------------------------\u001b[0m",
            "\u001b[0;31mKeyError\u001b[0m                                  Traceback (most recent call last)",
            "\u001b[0;32m<ipython-input-29-aa9b6023d586>\u001b[0m in \u001b[0;36m<cell line: 0>\u001b[0;34m()\u001b[0m\n\u001b[0;32m----> 1\u001b[0;31m \u001b[0minfo7\u001b[0m\u001b[0;34m[\u001b[0m\u001b[0;34m'name2'\u001b[0m\u001b[0;34m]\u001b[0m\u001b[0;34m\u001b[0m\u001b[0;34m\u001b[0m\u001b[0m\n\u001b[0m",
            "\u001b[0;31mKeyError\u001b[0m: 'name2'"
          ]
        }
      ]
    },
    {
      "cell_type": "code",
      "source": [
        "info7.update({'Address':'Bengaluru'})\n",
        "print(info7)"
      ],
      "metadata": {
        "colab": {
          "base_uri": "https://localhost:8080/"
        },
        "id": "JKPTWtr9ZeNW",
        "outputId": "a79ddce3-b9eb-416a-cd82-015b4529e3c9"
      },
      "execution_count": 31,
      "outputs": [
        {
          "output_type": "stream",
          "name": "stdout",
          "text": [
            "{'name': 'Kunal', 'age': 32, 'marks': [5, 14, 12, 34], 'Address': 'Bengaluru'}\n"
          ]
        }
      ]
    },
    {
      "cell_type": "markdown",
      "source": [
        "pop('Aadress)- remove the item mentioned"
      ],
      "metadata": {
        "id": "zcqpenjLeabJ"
      }
    },
    {
      "cell_type": "code",
      "source": [
        "info7.pop('Address')\n",
        "print(info7)"
      ],
      "metadata": {
        "colab": {
          "base_uri": "https://localhost:8080/"
        },
        "id": "pRp8ub_aeDzw",
        "outputId": "3f10c15f-a790-4f3d-e7e4-579860ae5c71"
      },
      "execution_count": 32,
      "outputs": [
        {
          "output_type": "stream",
          "name": "stdout",
          "text": [
            "{'name': 'Kunal', 'age': 32, 'marks': [5, 14, 12, 34]}\n"
          ]
        }
      ]
    },
    {
      "cell_type": "markdown",
      "source": [
        "popitem()-- remove the last item"
      ],
      "metadata": {
        "id": "NWjiplUceYe8"
      }
    },
    {
      "cell_type": "code",
      "source": [
        "info7.popitem()\n",
        "print(info7)"
      ],
      "metadata": {
        "colab": {
          "base_uri": "https://localhost:8080/"
        },
        "id": "vMtDanZPeJQe",
        "outputId": "aa8b3422-b770-49ef-87a9-7e8a4170ccd6"
      },
      "execution_count": 34,
      "outputs": [
        {
          "output_type": "stream",
          "name": "stdout",
          "text": [
            "{'name': 'Kunal', 'age': 32}\n"
          ]
        }
      ]
    },
    {
      "cell_type": "code",
      "source": [
        "info7.setdefault('name')\n",
        "print(info7)"
      ],
      "metadata": {
        "colab": {
          "base_uri": "https://localhost:8080/"
        },
        "id": "OEdoIHD1eu7C",
        "outputId": "60775f6e-c3c9-4f86-cf6a-263b3cb72d31"
      },
      "execution_count": 35,
      "outputs": [
        {
          "output_type": "stream",
          "name": "stdout",
          "text": [
            "{'name': 'Kunal', 'age': 32}\n"
          ]
        }
      ]
    },
    {
      "cell_type": "code",
      "source": [
        "info7.clear()\n",
        "print(info7)"
      ],
      "metadata": {
        "colab": {
          "base_uri": "https://localhost:8080/"
        },
        "id": "oFLj1aQRe3YN",
        "outputId": "6bfdf82c-f891-4d05-924e-1189c56e4e66"
      },
      "execution_count": 36,
      "outputs": [
        {
          "output_type": "stream",
          "name": "stdout",
          "text": [
            "{}\n"
          ]
        }
      ]
    },
    {
      "cell_type": "markdown",
      "source": [
        "**SET**"
      ],
      "metadata": {
        "id": "mdmynaBDjCKj"
      }
    },
    {
      "cell_type": "code",
      "source": [
        "num={1,2,3,4}\n",
        "print(num)\n",
        "print(type(num))"
      ],
      "metadata": {
        "colab": {
          "base_uri": "https://localhost:8080/"
        },
        "id": "CjOEnbeJjFe0",
        "outputId": "8c83e592-53c9-4877-abb2-18b4774dbee2"
      },
      "execution_count": 54,
      "outputs": [
        {
          "output_type": "stream",
          "name": "stdout",
          "text": [
            "{1, 2, 3, 4}\n",
            "<class 'set'>\n"
          ]
        }
      ]
    },
    {
      "cell_type": "code",
      "source": [
        "num1={1,2,2,2,3,3,4,4}\n",
        "print(num1)"
      ],
      "metadata": {
        "colab": {
          "base_uri": "https://localhost:8080/"
        },
        "id": "v5clPe9wjMAZ",
        "outputId": "74e1e66e-49da-4849-b114-986ffcdb0477"
      },
      "execution_count": 39,
      "outputs": [
        {
          "output_type": "stream",
          "name": "stdout",
          "text": [
            "{1, 2, 3, 4}\n"
          ]
        }
      ]
    },
    {
      "cell_type": "code",
      "source": [
        "num3=set()\n",
        "print(num3)"
      ],
      "metadata": {
        "colab": {
          "base_uri": "https://localhost:8080/"
        },
        "id": "p3VQj4VgjbnK",
        "outputId": "97028e5e-496e-4cb3-d63d-eaf7cb3da56f"
      },
      "execution_count": 42,
      "outputs": [
        {
          "output_type": "stream",
          "name": "stdout",
          "text": [
            "set()\n"
          ]
        }
      ]
    },
    {
      "cell_type": "markdown",
      "source": [
        "Set is unordered, in the below example enter and output is different"
      ],
      "metadata": {
        "id": "D1HFku_qkmEv"
      }
    },
    {
      "cell_type": "code",
      "source": [
        "num4={1,'apple',(1,2,3)}\n",
        "print(num4)"
      ],
      "metadata": {
        "colab": {
          "base_uri": "https://localhost:8080/"
        },
        "id": "TVBFlqthkblR",
        "outputId": "ccec0685-8327-426a-f009-f6dc0f394620"
      },
      "execution_count": 43,
      "outputs": [
        {
          "output_type": "stream",
          "name": "stdout",
          "text": [
            "{1, (1, 2, 3), 'apple'}\n"
          ]
        }
      ]
    },
    {
      "cell_type": "markdown",
      "source": [
        "Set doesn't allow list and dictionary"
      ],
      "metadata": {
        "id": "BUwNrAFDmOPh"
      }
    },
    {
      "cell_type": "code",
      "source": [
        "num5={1,'kunal', [1,2,3]}\n",
        "print(num5)"
      ],
      "metadata": {
        "colab": {
          "base_uri": "https://localhost:8080/",
          "height": 165
        },
        "id": "HsbHUxcbkuAc",
        "outputId": "bc4dc07e-ab60-454e-b674-de5665644a98"
      },
      "execution_count": 46,
      "outputs": [
        {
          "output_type": "error",
          "ename": "TypeError",
          "evalue": "unhashable type: 'list'",
          "traceback": [
            "\u001b[0;31m---------------------------------------------------------------------------\u001b[0m",
            "\u001b[0;31mTypeError\u001b[0m                                 Traceback (most recent call last)",
            "\u001b[0;32m<ipython-input-46-22e5c2085fef>\u001b[0m in \u001b[0;36m<cell line: 0>\u001b[0;34m()\u001b[0m\n\u001b[0;32m----> 1\u001b[0;31m \u001b[0mnum5\u001b[0m\u001b[0;34m=\u001b[0m\u001b[0;34m{\u001b[0m\u001b[0;36m1\u001b[0m\u001b[0;34m,\u001b[0m\u001b[0;34m'kunal'\u001b[0m\u001b[0;34m,\u001b[0m \u001b[0;34m[\u001b[0m\u001b[0;36m1\u001b[0m\u001b[0;34m,\u001b[0m\u001b[0;36m2\u001b[0m\u001b[0;34m,\u001b[0m\u001b[0;36m3\u001b[0m\u001b[0;34m]\u001b[0m\u001b[0;34m}\u001b[0m\u001b[0;34m\u001b[0m\u001b[0;34m\u001b[0m\u001b[0m\n\u001b[0m\u001b[1;32m      2\u001b[0m \u001b[0mprint\u001b[0m\u001b[0;34m(\u001b[0m\u001b[0mnum5\u001b[0m\u001b[0;34m)\u001b[0m\u001b[0;34m\u001b[0m\u001b[0;34m\u001b[0m\u001b[0m\n",
            "\u001b[0;31mTypeError\u001b[0m: unhashable type: 'list'"
          ]
        }
      ]
    },
    {
      "cell_type": "markdown",
      "source": [
        "Add a element in set"
      ],
      "metadata": {
        "id": "gOb4LGasm2Jr"
      }
    },
    {
      "cell_type": "code",
      "source": [
        "num.add(5)\n",
        "print(num)"
      ],
      "metadata": {
        "colab": {
          "base_uri": "https://localhost:8080/"
        },
        "id": "A98i-l_ZmSQ5",
        "outputId": "7610ae5c-3691-4930-dc15-12584c4f0bc4"
      },
      "execution_count": 49,
      "outputs": [
        {
          "output_type": "stream",
          "name": "stdout",
          "text": [
            "{1, 2, 3, 4, 5}\n"
          ]
        }
      ]
    },
    {
      "cell_type": "markdown",
      "source": [
        "Remove a element in set"
      ],
      "metadata": {
        "id": "aWzfvEVUm3aC"
      }
    },
    {
      "cell_type": "code",
      "source": [
        "num.remove(4)\n",
        "print(num)"
      ],
      "metadata": {
        "colab": {
          "base_uri": "https://localhost:8080/"
        },
        "id": "8Z5vhW-3mduf",
        "outputId": "ef53be75-778e-47fd-b2aa-bd033b028a33"
      },
      "execution_count": 50,
      "outputs": [
        {
          "output_type": "stream",
          "name": "stdout",
          "text": [
            "{1, 2, 3, 5}\n"
          ]
        }
      ]
    },
    {
      "cell_type": "markdown",
      "source": [
        "Remove a randome element in set"
      ],
      "metadata": {
        "id": "lLOka2WMm6yM"
      }
    },
    {
      "cell_type": "code",
      "source": [
        "num.pop()\n",
        "print(num)\n"
      ],
      "metadata": {
        "colab": {
          "base_uri": "https://localhost:8080/"
        },
        "id": "7E__rg-0migT",
        "outputId": "ed7471e4-df0c-4253-ea33-b472e293960d"
      },
      "execution_count": 56,
      "outputs": [
        {
          "output_type": "stream",
          "name": "stdout",
          "text": [
            "{3, 4}\n"
          ]
        }
      ]
    },
    {
      "cell_type": "markdown",
      "source": [
        "Clear all element in set"
      ],
      "metadata": {
        "id": "YMfYbEdrm-m7"
      }
    },
    {
      "cell_type": "code",
      "source": [
        "num.clear()\n",
        "print(num)"
      ],
      "metadata": {
        "colab": {
          "base_uri": "https://localhost:8080/"
        },
        "id": "tnLP1Ghjmoqh",
        "outputId": "6046e16f-e485-47b0-a636-d86720e19a58"
      },
      "execution_count": 57,
      "outputs": [
        {
          "output_type": "stream",
          "name": "stdout",
          "text": [
            "set()\n"
          ]
        }
      ]
    },
    {
      "cell_type": "code",
      "source": [
        "nums={1,2,3,7}\n",
        "nums1={2,3,5}\n",
        "nums.intersection(nums1)"
      ],
      "metadata": {
        "colab": {
          "base_uri": "https://localhost:8080/"
        },
        "id": "0_Ole8BonM16",
        "outputId": "95b15bbe-8170-43f2-d039-5976650a3268"
      },
      "execution_count": 81,
      "outputs": [
        {
          "output_type": "execute_result",
          "data": {
            "text/plain": [
              "{2, 3}"
            ]
          },
          "metadata": {},
          "execution_count": 81
        }
      ]
    },
    {
      "cell_type": "code",
      "source": [
        "nums.union(nums1)"
      ],
      "metadata": {
        "colab": {
          "base_uri": "https://localhost:8080/"
        },
        "id": "DLVhohiqoDtV",
        "outputId": "b5aa854b-ad8a-49f5-e345-dd13315a0a13"
      },
      "execution_count": 82,
      "outputs": [
        {
          "output_type": "execute_result",
          "data": {
            "text/plain": [
              "{1, 2, 3, 5, 7}"
            ]
          },
          "metadata": {},
          "execution_count": 82
        }
      ]
    },
    {
      "cell_type": "code",
      "source": [
        "import os"
      ],
      "metadata": {
        "id": "76qawbewqhnb"
      },
      "execution_count": 97,
      "outputs": []
    },
    {
      "cell_type": "code",
      "source": [
        "os.getcwd()"
      ],
      "metadata": {
        "id": "3kRGLUe_qmFX",
        "outputId": "7eda40c6-294f-4b35-9747-ac8deacf8f5f",
        "colab": {
          "base_uri": "https://localhost:8080/",
          "height": 36
        }
      },
      "execution_count": 98,
      "outputs": [
        {
          "output_type": "execute_result",
          "data": {
            "text/plain": [
              "'/content'"
            ],
            "application/vnd.google.colaboratory.intrinsic+json": {
              "type": "string"
            }
          },
          "metadata": {},
          "execution_count": 98
        }
      ]
    },
    {
      "cell_type": "markdown",
      "source": [
        "**Change directory and list directory**"
      ],
      "metadata": {
        "id": "kTpvc0TovMvJ"
      }
    },
    {
      "cell_type": "code",
      "source": [
        "import os\n",
        "os.chdir('/kaggle')\n",
        "os.listdir('/kaggle')"
      ],
      "metadata": {
        "id": "7gJqZ16YueGZ",
        "outputId": "d6ec2b99-31f1-4b27-b847-8dec2177c5cb",
        "colab": {
          "base_uri": "https://localhost:8080/"
        }
      },
      "execution_count": 101,
      "outputs": [
        {
          "output_type": "execute_result",
          "data": {
            "text/plain": [
              "['input']"
            ]
          },
          "metadata": {},
          "execution_count": 101
        }
      ]
    },
    {
      "cell_type": "markdown",
      "source": [
        "**Creating a** **Directory**\n",
        "os.mkdir()\n",
        "os.mkdirs()"
      ],
      "metadata": {
        "id": "ADgnyl2dva1i"
      }
    },
    {
      "cell_type": "code",
      "source": [],
      "metadata": {
        "id": "MH5DO7Jhu-x0"
      },
      "execution_count": null,
      "outputs": []
    }
  ],
  "metadata": {
    "colab": {
      "name": "Welcome To Colab",
      "provenance": [],
      "include_colab_link": true
    },
    "kernelspec": {
      "display_name": "Python 3",
      "name": "python3"
    }
  },
  "nbformat": 4,
  "nbformat_minor": 0
}