{
  "cells": [
    {
      "cell_type": "markdown",
      "metadata": {
        "id": "view-in-github",
        "colab_type": "text"
      },
      "source": [
        "<a href=\"https://colab.research.google.com/github/kunni87/phython-assignment/blob/main/Practice%20Note.ipynb\" target=\"_parent\"><img src=\"https://colab.research.google.com/assets/colab-badge.svg\" alt=\"Open In Colab\"/></a>"
      ]
    },
    {
      "cell_type": "markdown",
      "source": [
        "Dictionary\n",
        "They are mutable, {}"
      ],
      "metadata": {
        "id": "c4qmx7N6PRRU"
      }
    },
    {
      "cell_type": "code",
      "source": [
        "info= {'name':'Kunal',\n",
        "       'age':32,\n",
        "       'marks':[5,14,12,34,]}\n",
        "print(type(info))\n",
        "print(info)"
      ],
      "metadata": {
        "id": "klQWzcvZRqC0",
        "outputId": "d97e25c8-d102-486d-dcef-2b6b883ee29d",
        "colab": {
          "base_uri": "https://localhost:8080/"
        }
      },
      "execution_count": 1,
      "outputs": [
        {
          "output_type": "stream",
          "name": "stdout",
          "text": [
            "<class 'dict'>\n",
            "{'name': 'Kunal', 'age': 32, 'marks': [5, 14, 12, 34]}\n"
          ]
        }
      ]
    },
    {
      "cell_type": "code",
      "source": [
        "info['name']"
      ],
      "metadata": {
        "id": "WdI59PBHSjlP",
        "outputId": "18f24736-47b9-4365-835c-612f1b4c98f7",
        "colab": {
          "base_uri": "https://localhost:8080/",
          "height": 36
        }
      },
      "execution_count": 5,
      "outputs": [
        {
          "output_type": "execute_result",
          "data": {
            "text/plain": [
              "'Kunal'"
            ],
            "application/vnd.google.colaboratory.intrinsic+json": {
              "type": "string"
            }
          },
          "metadata": {},
          "execution_count": 5
        }
      ]
    },
    {
      "cell_type": "markdown",
      "source": [
        "Duplicate Key is not allowed in dictionary. Dictionary take the second value if the key is same/Duplicate"
      ],
      "metadata": {
        "id": "Ycb23Y-aTFDA"
      }
    },
    {
      "cell_type": "code",
      "source": [
        "info2={'name':'Kunal',\n",
        "       'name':'Kapadia'}\n",
        "print(info2)"
      ],
      "metadata": {
        "id": "3dH2wUHKS3qQ",
        "outputId": "3a76710d-d322-4229-c846-c45db1272b57",
        "colab": {
          "base_uri": "https://localhost:8080/"
        }
      },
      "execution_count": 6,
      "outputs": [
        {
          "output_type": "stream",
          "name": "stdout",
          "text": [
            "{'name': 'Kapadia'}\n"
          ]
        }
      ]
    },
    {
      "cell_type": "markdown",
      "source": [
        "Duplicate Value are excepted in Dictionary"
      ],
      "metadata": {
        "id": "7c37SajKTlI_"
      }
    },
    {
      "cell_type": "code",
      "source": [
        "info3={'name':'Kunal',\n",
        "       'surname':'Kunal'}\n",
        "print(info3)"
      ],
      "metadata": {
        "id": "UJFG3RC3Td4L",
        "outputId": "93f3f8f5-2e98-4fa4-bfcf-de8bc5a590fd",
        "colab": {
          "base_uri": "https://localhost:8080/"
        }
      },
      "execution_count": 7,
      "outputs": [
        {
          "output_type": "stream",
          "name": "stdout",
          "text": [
            "{'name': 'Kunal', 'surname': 'Kunal'}\n"
          ]
        }
      ]
    },
    {
      "cell_type": "code",
      "source": [
        "info4= {'name':'Kunal',\n",
        "       'age':32,\n",
        "       'marks':{'English':5,'Hindi':14,'Maths':12,'Science':34,}}\n",
        "print(info4)"
      ],
      "metadata": {
        "id": "oHXraMjjUB6N",
        "outputId": "df605225-db1e-4fcd-f70e-083fa80d9cb8",
        "colab": {
          "base_uri": "https://localhost:8080/"
        }
      },
      "execution_count": 8,
      "outputs": [
        {
          "output_type": "stream",
          "name": "stdout",
          "text": [
            "{'name': 'Kunal', 'age': 32, 'marks': {'English': 5, 'Hindi': 14, 'Maths': 12, 'Science': 34}}\n"
          ]
        }
      ]
    },
    {
      "cell_type": "markdown",
      "source": [
        "Access nested dictionary value"
      ],
      "metadata": {
        "id": "cyhNP4R3UwVc"
      }
    },
    {
      "cell_type": "code",
      "source": [
        "info4['marks']['English']\n"
      ],
      "metadata": {
        "id": "M9rWJQVJUbpV",
        "outputId": "8add5797-e703-4a3b-a060-887177b3e53d",
        "colab": {
          "base_uri": "https://localhost:8080/"
        }
      },
      "execution_count": 13,
      "outputs": [
        {
          "output_type": "execute_result",
          "data": {
            "text/plain": [
              "5"
            ]
          },
          "metadata": {},
          "execution_count": 13
        }
      ]
    },
    {
      "cell_type": "markdown",
      "source": [
        "Dictionary method\n",
        "dict.keys()--> returns key\n",
        "dict.value()--> returns Value\n",
        "dict.items()\n",
        "dict.get('key')\n",
        "dict.update(newdict)\n"
      ],
      "metadata": {
        "id": "_GrUKZhsWwXP"
      }
    },
    {
      "cell_type": "code",
      "source": [
        "info7= {'name':'Kunal',\n",
        "       'age':32,\n",
        "       'marks':[5,14,12,34,]}"
      ],
      "metadata": {
        "id": "edn82r92XCXu"
      },
      "execution_count": 16,
      "outputs": []
    },
    {
      "cell_type": "markdown",
      "source": [
        "dict.keys()"
      ],
      "metadata": {
        "id": "HzOFY8kUX8Bc"
      }
    },
    {
      "cell_type": "code",
      "source": [
        "key=list(info7.keys())\n",
        "print(key)"
      ],
      "metadata": {
        "id": "o5t0E3eKXZWb",
        "outputId": "b51b4357-39de-4faf-df4e-fcd80617aad4",
        "colab": {
          "base_uri": "https://localhost:8080/"
        }
      },
      "execution_count": 17,
      "outputs": [
        {
          "output_type": "stream",
          "name": "stdout",
          "text": [
            "['name', 'age', 'marks']\n"
          ]
        }
      ]
    },
    {
      "cell_type": "markdown",
      "source": [
        "dict.values()"
      ],
      "metadata": {
        "id": "t3IxtglhX_yw"
      }
    },
    {
      "cell_type": "code",
      "source": [
        "values=list(info7.values())\n",
        "print(values)"
      ],
      "metadata": {
        "id": "yZSanYOdX2iI",
        "outputId": "4a98f1ef-3a08-403b-97c2-03a39d1384a0",
        "colab": {
          "base_uri": "https://localhost:8080/"
        }
      },
      "execution_count": 18,
      "outputs": [
        {
          "output_type": "stream",
          "name": "stdout",
          "text": [
            "['Kunal', 32, [5, 14, 12, 34]]\n"
          ]
        }
      ]
    },
    {
      "cell_type": "markdown",
      "source": [
        "dict.item()"
      ],
      "metadata": {
        "id": "rqcHb6o2YRiJ"
      }
    },
    {
      "cell_type": "code",
      "source": [
        "item=list(info7.items())\n",
        "print(item)"
      ],
      "metadata": {
        "id": "AbC7hkyuYHVF",
        "outputId": "4cb1429b-7b03-4d1f-a0a0-92a72259e675",
        "colab": {
          "base_uri": "https://localhost:8080/"
        }
      },
      "execution_count": 19,
      "outputs": [
        {
          "output_type": "stream",
          "name": "stdout",
          "text": [
            "[('name', 'Kunal'), ('age', 32), ('marks', [5, 14, 12, 34])]\n"
          ]
        }
      ]
    },
    {
      "cell_type": "markdown",
      "source": [
        "dict.get()"
      ],
      "metadata": {
        "id": "xTrE0NeTYgV_"
      }
    },
    {
      "cell_type": "code",
      "source": [
        "info7.get('name2')"
      ],
      "metadata": {
        "id": "eBQ4FrH2YlYf"
      },
      "execution_count": 30,
      "outputs": []
    },
    {
      "cell_type": "code",
      "source": [
        "info7['name2']"
      ],
      "metadata": {
        "id": "oAs_Sb-BYrIj",
        "outputId": "34aac691-8fb8-42c2-e866-fbff5f0ebad9",
        "colab": {
          "base_uri": "https://localhost:8080/",
          "height": 146
        }
      },
      "execution_count": 29,
      "outputs": [
        {
          "output_type": "error",
          "ename": "KeyError",
          "evalue": "'name2'",
          "traceback": [
            "\u001b[0;31m---------------------------------------------------------------------------\u001b[0m",
            "\u001b[0;31mKeyError\u001b[0m                                  Traceback (most recent call last)",
            "\u001b[0;32m<ipython-input-29-aa9b6023d586>\u001b[0m in \u001b[0;36m<cell line: 0>\u001b[0;34m()\u001b[0m\n\u001b[0;32m----> 1\u001b[0;31m \u001b[0minfo7\u001b[0m\u001b[0;34m[\u001b[0m\u001b[0;34m'name2'\u001b[0m\u001b[0;34m]\u001b[0m\u001b[0;34m\u001b[0m\u001b[0;34m\u001b[0m\u001b[0m\n\u001b[0m",
            "\u001b[0;31mKeyError\u001b[0m: 'name2'"
          ]
        }
      ]
    },
    {
      "cell_type": "code",
      "source": [
        "info7.update({'Address':'Bengaluru'})\n",
        "print(info7)"
      ],
      "metadata": {
        "id": "JKPTWtr9ZeNW",
        "outputId": "a79ddce3-b9eb-416a-cd82-015b4529e3c9",
        "colab": {
          "base_uri": "https://localhost:8080/"
        }
      },
      "execution_count": 31,
      "outputs": [
        {
          "output_type": "stream",
          "name": "stdout",
          "text": [
            "{'name': 'Kunal', 'age': 32, 'marks': [5, 14, 12, 34], 'Address': 'Bengaluru'}\n"
          ]
        }
      ]
    }
  ],
  "metadata": {
    "colab": {
      "name": "Welcome To Colab",
      "toc_visible": true,
      "provenance": [],
      "include_colab_link": true
    },
    "kernelspec": {
      "display_name": "Python 3",
      "name": "python3"
    }
  },
  "nbformat": 4,
  "nbformat_minor": 0
}